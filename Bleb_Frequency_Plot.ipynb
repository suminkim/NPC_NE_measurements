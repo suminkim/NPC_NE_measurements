{
 "cells": [
  {
   "cell_type": "code",
   "execution_count": 1,
   "id": "abb67852",
   "metadata": {},
   "outputs": [],
   "source": [
    "import numpy as np;\n",
    "import pandas as pd;\n",
    "import seaborn as sns;\n",
    "import matplotlib.pyplot as plt;"
   ]
  },
  {
   "cell_type": "code",
   "execution_count": 2,
   "id": "42550c44",
   "metadata": {},
   "outputs": [],
   "source": [
    "# Load files. CONDITION / REPLICATE / NUM_BLEB columns\n",
    "wt4 = pd.read_csv(\"WT_DIV4_BLEBS.csv\");\n",
    "wt10 = pd.read_csv(\"WT_DIV10_BLEBS.csv\");\n",
    "ko4 = pd.read_csv(\"KO_DIV4_BLEBS.csv\");\n",
    "ko10 = pd.read_csv(\"KO_DIV10_BLEBS.csv\");\n"
   ]
  },
  {
   "cell_type": "code",
   "execution_count": 3,
   "id": "8a4d7e7f",
   "metadata": {
    "scrolled": true
   },
   "outputs": [
    {
     "data": {
      "text/plain": [
       "37"
      ]
     },
     "execution_count": 3,
     "metadata": {},
     "output_type": "execute_result"
    }
   ],
   "source": [
    "max(ko10.NUM_BLEB)  #use this value to set intervals/range\n"
   ]
  },
  {
   "cell_type": "code",
   "execution_count": 4,
   "id": "c95e5b2c",
   "metadata": {},
   "outputs": [
    {
     "name": "stdout",
     "output_type": "stream",
     "text": [
      "          NUM_BLEB\n",
      "[0, 10)         88\n",
      "[10, 20)        60\n",
      "[20, 30)        16\n",
      "[30, 40)         3\n"
     ]
    }
   ],
   "source": [
    "# Define intervals: 0-40 blebs, interval of 10.\n",
    "intervals = pd.interval_range(start=0, freq=10, end=40, closed='left');  \n",
    "\n",
    "# Make empty variables for histogram dataframe\n",
    "wt4_binned = [];\n",
    "wt10_binned = [];\n",
    "ko4_binned = [];\n",
    "ko10_binned = [];\n",
    "\n",
    "# Cut data into intervals of 10 and make count into dataframes\n",
    "cutwt4 = pd.cut(wt4['NUM_BLEB'],bins=intervals);\n",
    "wt4_binned = cutwt4.value_counts().sort_index();\n",
    "wt4_binned_df = pd.DataFrame(wt4_binned);\n",
    "\n",
    "cutwt10 = pd.cut(wt10['NUM_BLEB'],bins=intervals);\n",
    "wt10_binned = cutwt10.value_counts().sort_index();\n",
    "wt10_binned_df = pd.DataFrame(wt10_binned);\n",
    "\n",
    "cutko4 = pd.cut(ko4['NUM_BLEB'],bins=intervals);\n",
    "ko4_binned = cutko4.value_counts().sort_index();\n",
    "ko4_binned_df = pd.DataFrame(ko4_binned);\n",
    "\n",
    "cutko10 = pd.cut(ko10['NUM_BLEB'],bins=intervals);\n",
    "ko10_binned = cutko10.value_counts().sort_index();\n",
    "ko10_binned_df = pd.DataFrame(ko10_binned);\n",
    "    \n",
    "# Check output\n",
    "print(ko10_binned_df)"
   ]
  },
  {
   "cell_type": "code",
   "execution_count": 5,
   "id": "7f804068",
   "metadata": {},
   "outputs": [],
   "source": [
    "alldata = pd.concat([wt4_binned_df,wt10_binned_df,ko4_binned_df,ko10_binned_df],axis=1);\n",
    "alldata.columns = [\"WT DIV4\",\"WT DIV10\",\"KO DIV4\",\"KO DIV10\"];"
   ]
  },
  {
   "cell_type": "code",
   "execution_count": 6,
   "id": "1c10694d",
   "metadata": {
    "scrolled": true
   },
   "outputs": [],
   "source": [
    "alldata.index = [\"0-9\",\"10-19\",\"20-29\",\"30-39\"];"
   ]
  },
  {
   "cell_type": "code",
   "execution_count": 7,
   "id": "45e0cdf5",
   "metadata": {},
   "outputs": [
    {
     "data": {
      "text/html": [
       "<div>\n",
       "<style scoped>\n",
       "    .dataframe tbody tr th:only-of-type {\n",
       "        vertical-align: middle;\n",
       "    }\n",
       "\n",
       "    .dataframe tbody tr th {\n",
       "        vertical-align: top;\n",
       "    }\n",
       "\n",
       "    .dataframe thead th {\n",
       "        text-align: right;\n",
       "    }\n",
       "</style>\n",
       "<table border=\"1\" class=\"dataframe\">\n",
       "  <thead>\n",
       "    <tr style=\"text-align: right;\">\n",
       "      <th></th>\n",
       "      <th>WT DIV4</th>\n",
       "      <th>WT DIV10</th>\n",
       "      <th>KO DIV4</th>\n",
       "      <th>KO DIV10</th>\n",
       "    </tr>\n",
       "  </thead>\n",
       "  <tbody>\n",
       "    <tr>\n",
       "      <th>0-9</th>\n",
       "      <td>113</td>\n",
       "      <td>136</td>\n",
       "      <td>174</td>\n",
       "      <td>88</td>\n",
       "    </tr>\n",
       "    <tr>\n",
       "      <th>10-19</th>\n",
       "      <td>0</td>\n",
       "      <td>0</td>\n",
       "      <td>4</td>\n",
       "      <td>60</td>\n",
       "    </tr>\n",
       "    <tr>\n",
       "      <th>20-29</th>\n",
       "      <td>0</td>\n",
       "      <td>0</td>\n",
       "      <td>0</td>\n",
       "      <td>16</td>\n",
       "    </tr>\n",
       "    <tr>\n",
       "      <th>30-39</th>\n",
       "      <td>0</td>\n",
       "      <td>0</td>\n",
       "      <td>0</td>\n",
       "      <td>3</td>\n",
       "    </tr>\n",
       "  </tbody>\n",
       "</table>\n",
       "</div>"
      ],
      "text/plain": [
       "       WT DIV4  WT DIV10  KO DIV4  KO DIV10\n",
       "0-9        113       136      174        88\n",
       "10-19        0         0        4        60\n",
       "20-29        0         0        0        16\n",
       "30-39        0         0        0         3"
      ]
     },
     "execution_count": 7,
     "metadata": {},
     "output_type": "execute_result"
    }
   ],
   "source": [
    "alldata"
   ]
  },
  {
   "cell_type": "code",
   "execution_count": 8,
   "id": "7055df28",
   "metadata": {},
   "outputs": [],
   "source": [
    "# Save this frequency file\n",
    "#alldata.to_csv(\"DIV4-10_Bleb_Frequency_Distribution.csv\");"
   ]
  },
  {
   "cell_type": "code",
   "execution_count": 9,
   "id": "be2cce18",
   "metadata": {},
   "outputs": [
    {
     "data": {
      "text/html": [
       "<div>\n",
       "<style scoped>\n",
       "    .dataframe tbody tr th:only-of-type {\n",
       "        vertical-align: middle;\n",
       "    }\n",
       "\n",
       "    .dataframe tbody tr th {\n",
       "        vertical-align: top;\n",
       "    }\n",
       "\n",
       "    .dataframe thead th {\n",
       "        text-align: right;\n",
       "    }\n",
       "</style>\n",
       "<table border=\"1\" class=\"dataframe\">\n",
       "  <thead>\n",
       "    <tr style=\"text-align: right;\">\n",
       "      <th></th>\n",
       "      <th>WT DIV4</th>\n",
       "      <th>WT DIV10</th>\n",
       "      <th>KO DIV4</th>\n",
       "      <th>KO DIV10</th>\n",
       "    </tr>\n",
       "  </thead>\n",
       "  <tbody>\n",
       "    <tr>\n",
       "      <th>0-9</th>\n",
       "      <td>100.0</td>\n",
       "      <td>100.0</td>\n",
       "      <td>97.752809</td>\n",
       "      <td>52.694611</td>\n",
       "    </tr>\n",
       "    <tr>\n",
       "      <th>10-19</th>\n",
       "      <td>0.0</td>\n",
       "      <td>0.0</td>\n",
       "      <td>2.247191</td>\n",
       "      <td>35.928144</td>\n",
       "    </tr>\n",
       "    <tr>\n",
       "      <th>20-29</th>\n",
       "      <td>0.0</td>\n",
       "      <td>0.0</td>\n",
       "      <td>0.000000</td>\n",
       "      <td>9.580838</td>\n",
       "    </tr>\n",
       "    <tr>\n",
       "      <th>30-39</th>\n",
       "      <td>0.0</td>\n",
       "      <td>0.0</td>\n",
       "      <td>0.000000</td>\n",
       "      <td>1.796407</td>\n",
       "    </tr>\n",
       "  </tbody>\n",
       "</table>\n",
       "</div>"
      ],
      "text/plain": [
       "       WT DIV4  WT DIV10    KO DIV4   KO DIV10\n",
       "0-9      100.0     100.0  97.752809  52.694611\n",
       "10-19      0.0       0.0   2.247191  35.928144\n",
       "20-29      0.0       0.0   0.000000   9.580838\n",
       "30-39      0.0       0.0   0.000000   1.796407"
      ]
     },
     "execution_count": 9,
     "metadata": {},
     "output_type": "execute_result"
    }
   ],
   "source": [
    "# Get pct distributions\n",
    "\n",
    "pctalldata = alldata.div(alldata.sum(axis=0),axis=1);\n",
    "pctalldata = pctalldata*100;\n",
    "\n",
    "# check output\n",
    "pctalldata"
   ]
  },
  {
   "cell_type": "code",
   "execution_count": 10,
   "id": "816f5031",
   "metadata": {},
   "outputs": [
    {
     "data": {
      "text/html": [
       "<div>\n",
       "<style scoped>\n",
       "    .dataframe tbody tr th:only-of-type {\n",
       "        vertical-align: middle;\n",
       "    }\n",
       "\n",
       "    .dataframe tbody tr th {\n",
       "        vertical-align: top;\n",
       "    }\n",
       "\n",
       "    .dataframe thead th {\n",
       "        text-align: right;\n",
       "    }\n",
       "</style>\n",
       "<table border=\"1\" class=\"dataframe\">\n",
       "  <thead>\n",
       "    <tr style=\"text-align: right;\">\n",
       "      <th></th>\n",
       "      <th>index</th>\n",
       "      <th>0-9</th>\n",
       "      <th>10-19</th>\n",
       "      <th>20-29</th>\n",
       "      <th>30-39</th>\n",
       "    </tr>\n",
       "  </thead>\n",
       "  <tbody>\n",
       "    <tr>\n",
       "      <th>0</th>\n",
       "      <td>DIV4</td>\n",
       "      <td>100.000000</td>\n",
       "      <td>0.000000</td>\n",
       "      <td>0.000000</td>\n",
       "      <td>0.000000</td>\n",
       "    </tr>\n",
       "    <tr>\n",
       "      <th>1</th>\n",
       "      <td>DIV10</td>\n",
       "      <td>100.000000</td>\n",
       "      <td>0.000000</td>\n",
       "      <td>0.000000</td>\n",
       "      <td>0.000000</td>\n",
       "    </tr>\n",
       "    <tr>\n",
       "      <th>2</th>\n",
       "      <td>DIV4</td>\n",
       "      <td>97.752809</td>\n",
       "      <td>2.247191</td>\n",
       "      <td>0.000000</td>\n",
       "      <td>0.000000</td>\n",
       "    </tr>\n",
       "    <tr>\n",
       "      <th>3</th>\n",
       "      <td>DIV10</td>\n",
       "      <td>52.694611</td>\n",
       "      <td>35.928144</td>\n",
       "      <td>9.580838</td>\n",
       "      <td>1.796407</td>\n",
       "    </tr>\n",
       "  </tbody>\n",
       "</table>\n",
       "</div>"
      ],
      "text/plain": [
       "   index         0-9      10-19     20-29     30-39\n",
       "0   DIV4  100.000000   0.000000  0.000000  0.000000\n",
       "1  DIV10  100.000000   0.000000  0.000000  0.000000\n",
       "2   DIV4   97.752809   2.247191  0.000000  0.000000\n",
       "3  DIV10   52.694611  35.928144  9.580838  1.796407"
      ]
     },
     "execution_count": 10,
     "metadata": {},
     "output_type": "execute_result"
    }
   ],
   "source": [
    "# Rename columns (simplified) for plotting\n",
    "pctalldata.columns=[\"DIV4\", \"DIV10\", \"DIV4\", \"DIV10\"];\n",
    "\n",
    "# Transpose for plotting\n",
    "blebfreq_final = pctalldata.transpose();\n",
    "blebfreq_final = blebfreq_final.reset_index();\n",
    "\n",
    "# check output\n",
    "blebfreq_final\n"
   ]
  },
  {
   "cell_type": "code",
   "execution_count": 14,
   "id": "8d1eee2c",
   "metadata": {},
   "outputs": [],
   "source": []
  },
  {
   "cell_type": "code",
   "execution_count": null,
   "id": "8ff08a51",
   "metadata": {},
   "outputs": [],
   "source": []
  },
  {
   "cell_type": "code",
   "execution_count": 11,
   "id": "f76e2a66",
   "metadata": {},
   "outputs": [],
   "source": [
    "# color palette choices\n",
    "OkabeIto = [\"#E69F00\",\"#56B4E9\",\"#009E73\",\"#F0E442\",\"#0072B2\",\"#D55E00\",\"#CC79A7\",\"#000000\"];\n",
    "#TolBright = ['#4477AA','#66CCEE','#228833','#CCBB44','#EE6677','#AA3377','#BBBBBB','#000000'];\n",
    "TolBright = ['#4477AA','#EE6677','#228833','#CCBB44','#66CCEE','#AA3377','#BBBBBB','#000000'];  #changed order 1/13/22\n",
    "Tolhighcontrast = ['#004488','#BB5566','#DDAA33']; #use this one for WT vs KO\n",
    "\n",
    "\n",
    "sns.set_style(\"whitegrid\", {'axes.grid' : False, 'ytick.left': True,'xtick.bottom': True});\n",
    "# Set color palette\n",
    "sns.set_palette(sns.color_palette(TolBright));\n",
    "\n",
    "# Set font type\n",
    "plt.rcParams['font.sans-serif'] = \"Arial\";\n",
    "# Then, \"ALWAYS use sans-serif fonts\"\n",
    "plt.rcParams['font.family'] = \"sans-serif\";"
   ]
  },
  {
   "cell_type": "code",
   "execution_count": 40,
   "id": "9c933625",
   "metadata": {},
   "outputs": [
    {
     "data": {
      "text/plain": [
       "<Figure size 1440x1440 with 0 Axes>"
      ]
     },
     "metadata": {},
     "output_type": "display_data"
    },
    {
     "data": {
      "image/png": "[encoded data removed]",
      "text/plain": [
       "<Figure size 432x288 with 1 Axes>"
      ]
     },
     "metadata": {},
     "output_type": "display_data"
    }
   ],
   "source": [
    "# Set color palette\n",
    "sns.set_palette(sns.color_palette(TolBright));\n",
    "\n",
    "plt.gcf().set_size_inches(20, 20);\n",
    "ax = blebfreq_final.plot(x='index', kind='bar', stacked=True, width=0.8, fill=True,linewidth=0.5);\n",
    "\n",
    "ax.set(xlabel=None);\n",
    "#ax.set_xlabel('Sample', fontsize=20, labelpad=30);\n",
    "ax.set_ylabel('Frequency (%)', fontsize=20, labelpad=6);\n",
    "ax.tick_params(labelsize=16);\n",
    "#ax.set_title('Bleb Frequency',fontsize=24, pad=20);\n",
    "\n",
    "#ax.legend(bbox_to_anchor=(1.02, 1),fontsize=14);\n",
    "ax.legend(loc=\"upper center\",bbox_to_anchor=(1.16, 1),fontsize=14);\n",
    "plt.xticks(rotation=0);\n",
    "\n",
    "\n",
    "plt.savefig('DIV4-10 Bleb Frequency_newcolor.pdf', dpi=600, bbox_inches='tight'); \n",
    "plt.savefig('DIV4-10 Bleb Frequency_newcolor.svg', dpi=600, bbox_inches='tight'); "
   ]
  },
  {
   "cell_type": "code",
   "execution_count": null,
   "id": "ada8b739",
   "metadata": {},
   "outputs": [],
   "source": []
  }
 ],
 "metadata": {
  "kernelspec": {
   "display_name": "Python [conda env:plotting]",
   "language": "python",
   "name": "conda-env-plotting-py"
  },
  "language_info": {
   "codemirror_mode": {
    "name": "ipython",
    "version": 3
   },
   "file_extension": ".py",
   "mimetype": "text/x-python",
   "name": "python",
   "nbconvert_exporter": "python",
   "pygments_lexer": "ipython3",
   "version": "3.9.6"
  }
 },
 "nbformat": 4,
 "nbformat_minor": 5
}
